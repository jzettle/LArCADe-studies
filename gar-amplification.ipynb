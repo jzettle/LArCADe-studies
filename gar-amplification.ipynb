{
 "cells": [
  {
   "cell_type": "code",
   "execution_count": 1,
   "metadata": {},
   "outputs": [],
   "source": [
    "import glob\n",
    "import re\n",
    "\n",
    "from matplotlib import pyplot as plt\n",
    "from math import sqrt\n",
    "import numpy as np\n",
    "\n",
    "from utils import Graph"
   ]
  },
  {
   "cell_type": "markdown",
   "metadata": {},
   "source": [
    "The below imports and processes all files used in GAr amplification. The electric field LUT used gives a $h = 200$ $\\mu$m, $r = 100$ $\\mu$m cylindrical volume surrounding a $3.5$ mm high, $1$ $\\mu$m radius tip. At each bulk field (given in $folder\\_list$ below), $1000$ simulations were run at each of the three investigated pressures."
   ]
  },
  {
   "cell_type": "code",
   "execution_count": 2,
   "metadata": {
    "scrolled": true
   },
   "outputs": [],
   "source": [
    "folder_list = [10, 13, 17, 23, 30, 40, 53, 70, 93, 123, 162, 214, 283, 375, 496, 655, 866, 1145, 1513, 2000]\n",
    "P_v = [2, 7, 15]\n",
    "\n",
    "v_per_cm = [[], [], []]\n",
    "mult_factor = [[], [], []]\n",
    "\n",
    "for i, p in enumerate(P_v):\n",
    "    for folder in folder_list:\n",
    "        file_tree = {}\n",
    "\n",
    "        for file in glob.glob(f'gar-amplification/{p}/{folder}/*.txt'):\n",
    "            key = int(re.search(r'(\\d*)(?:V)', file).group(1))\n",
    "            if (key in file_tree):\n",
    "                file_tree[key].append(file)\n",
    "            else:\n",
    "                file_tree[key] = [file]\n",
    "\n",
    "        for key, value in sorted(file_tree.items()):\n",
    "            group = Graph(value, smooth=False)\n",
    "\n",
    "            ionization_list = []\n",
    "            \n",
    "            for k in range(group.n):\n",
    "                ionization_list.append(group.ionized[k][-1])\n",
    "            \n",
    "            multiplication_factor = 2**np.mean(ionization_list)\n",
    "\n",
    "            v_per_cm[i].append(key)\n",
    "            mult_factor[i].append(multiplication_factor)"
   ]
  },
  {
   "cell_type": "markdown",
   "metadata": {},
   "source": [
    "The cell below plots the processed data. The dotted black line shows real world data taken from D. Caratelli's slides: https://kicp-workshops.uchicago.edu/2018-CEvNS/presentations.php."
   ]
  },
  {
   "cell_type": "code",
   "execution_count": 3,
   "metadata": {},
   "outputs": [
    {
     "data": {
      "image/png": "[encoded data removed]",
      "text/plain": [
       "<Figure size 432x288 with 1 Axes>"
      ]
     },
     "metadata": {},
     "output_type": "display_data"
    }
   ],
   "source": [
    "# plt.rcParams['font.size'] = 14\n",
    "# plt.rcParams['font.family'] = 'serif'\n",
    "# fig = plt.figure(figsize=(12, 6))\n",
    "\n",
    "for i, p in enumerate(P_v):\n",
    "    if p == 2:\n",
    "        plt.plot(v_per_cm[i], mult_factor[i], label=f'{p} PSI')\n",
    "    else:\n",
    "        plt.plot(v_per_cm[i], mult_factor[i], label=f'{p} PSI')\n",
    "    \n",
    "plt.plot([1, 1e2, 6e2, 1e3, 1.19e3, 1.41e3, 1.6e3], [1, 1, 1.1, 1.19, 1.68, 8, 20], 'k--', label='7 PSI Data')\n",
    "\n",
    "plt.title('Charge Amplification in GAr') # with $1$ $\\mu$m Radius Tip\n",
    "plt.xlabel(\"Bulk Field [Vcm$^{-1}$]\")\n",
    "plt.ylabel(\"Multiplication Factor\")\n",
    "\n",
    "plt.xscale('log')\n",
    "plt.yscale('log')\n",
    "\n",
    "plt.xlim(1e1, 2e3)\n",
    "plt.ylim(0.9, 6e2)\n",
    "\n",
    "plt.grid()\n",
    "plt.legend()\n",
    "plt.tight_layout()\n",
    "plt.show()    \n",
    "\n",
    "# plt.savefig('gar_charge_amp.pdf', bbox_inches='tight')"
   ]
  },
  {
   "cell_type": "code",
   "execution_count": null,
   "metadata": {},
   "outputs": [],
   "source": []
  }
 ],
 "metadata": {
  "kernelspec": {
   "display_name": "Python 3",
   "language": "python",
   "name": "python3"
  },
  "language_info": {
   "codemirror_mode": {
    "name": "ipython",
    "version": 3
   },
   "file_extension": ".py",
   "mimetype": "text/x-python",
   "name": "python",
   "nbconvert_exporter": "python",
   "pygments_lexer": "ipython3",
   "version": "3.6.8"
  }
 },
 "nbformat": 4,
 "nbformat_minor": 2
}
