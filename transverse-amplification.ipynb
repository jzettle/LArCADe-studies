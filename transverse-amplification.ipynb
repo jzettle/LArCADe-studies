{
 "cells": [
  {
   "cell_type": "code",
   "execution_count": 1,
   "metadata": {},
   "outputs": [],
   "source": [
    "import glob\n",
    "import re\n",
    "from math import sqrt\n",
    "\n",
    "from matplotlib import pyplot as plt\n",
    "import numpy as np\n",
    "from matplotlib import cm\n",
    "\n",
    "from utils import Graph\n",
    "\n",
    "def hit_check(x, y, z, tip_size):\n",
    "    h = x * 1e-6\n",
    "    r = sqrt(y**2 + z**2) * 1e-6\n",
    "    \n",
    "    if (h - 3.5e-3)**2 + r**2 <= tip_size**2:\n",
    "        return True\n",
    "    \n",
    "    if h <= 3.5e-3 and h <= (3e-3 - 3.5e-3) / (1e-4 - tip_size) * (r - 1e-4) + 3e-3:\n",
    "        return True\n",
    "    \n",
    "    return False"
   ]
  },
  {
   "cell_type": "markdown",
   "metadata": {},
   "source": [
    "The below loads the simulation data for transverse amplification, cutting up the spawn disc into equal-width rings of successive radii. The data set consists of $2000$ electrons spawned in a random disc at the top of a $r = 1$ mm, $h = 2$ mm cylindrical volume."
   ]
  },
  {
   "cell_type": "code",
   "execution_count": 3,
   "metadata": {},
   "outputs": [],
   "source": [
    "file_tree = {}\n",
    "\n",
    "for file in glob.glob('transverse-amplification/*.txt'):\n",
    "    key = int(re.search(r'(\\d*)(?:V)', file).group(1))\n",
    "    if (key in file_tree):\n",
    "        file_tree[key].append(file)\n",
    "    else:\n",
    "        file_tree[key] = [file]\n",
    "\n",
    "rings = np.linspace(0, 1000, 51)\n",
    "mults = []\n",
    "\n",
    "num_hits = 0\n",
    "\n",
    "for key, value in sorted(file_tree.items()):\n",
    "    group = Graph(value, smooth=False)\n",
    "    \n",
    "    for i in range(group.n):\n",
    "        if hit_check(group.x[i][-1], group.y[i][-1], group.z[i][-1], 1e-6):\n",
    "            num_hits += 1\n",
    "\n",
    "    for i in range(len(rings) - 1):\n",
    "        ionization_list = []\n",
    "        for k in range(group.n):\n",
    "            if (group.y[k][0]**2 + group.z[k][0]**2) < rings[i + 1]**2 and (group.y[k][0]**2 + group.z[k][0]**2) > rings[i]:\n",
    "                ionization_list.append(group.ionized[k][-1] + 1)\n",
    "        if len(ionization_list) > 0:\n",
    "            mults.append(np.mean(ionization_list))\n",
    "        else:\n",
    "            mults.append(1)"
   ]
  },
  {
   "cell_type": "markdown",
   "metadata": {},
   "source": [
    "The below plots amplification as a function of transverse spawn distance from the tip."
   ]
  },
  {
   "cell_type": "code",
   "execution_count": 4,
   "metadata": {},
   "outputs": [
    {
     "data": {
      "image/png": "[encoded data removed]",
      "text/plain": [
       "<Figure size 432x288 with 1 Axes>"
      ]
     },
     "metadata": {},
     "output_type": "display_data"
    }
   ],
   "source": [
    "# plt.rcParams['font.size'] = 14\n",
    "# plt.rcParams['font.family'] = 'serif'\n",
    "# fig = plt.figure(figsize=(12, 6))\n",
    "\n",
    "plt.plot(rings[1:], mults)\n",
    "\n",
    "plt.xlabel('Distance from Tip [mm]')\n",
    "plt.ylabel('Multiplication Factor')\n",
    "plt.title('Amplification vs. Transverse Distance')\n",
    "\n",
    "plt.xlim(0, 1000)\n",
    "\n",
    "plt.gca().set_xticklabels([0, 0.2, 0.4, 0.6, 0.8, 1])\n",
    "\n",
    "plt.grid()\n",
    "plt.tight_layout()\n",
    "plt.show()\n",
    "\n",
    "# plt.savefig(f'transverse_amp.pdf', bbox_inches='tight')"
   ]
  },
  {
   "cell_type": "code",
   "execution_count": null,
   "metadata": {},
   "outputs": [],
   "source": []
  }
 ],
 "metadata": {
  "kernelspec": {
   "display_name": "Python 3",
   "language": "python",
   "name": "python3"
  },
  "language_info": {
   "codemirror_mode": {
    "name": "ipython",
    "version": 3
   },
   "file_extension": ".py",
   "mimetype": "text/x-python",
   "name": "python",
   "nbconvert_exporter": "python",
   "pygments_lexer": "ipython3",
   "version": "3.6.8"
  }
 },
 "nbformat": 4,
 "nbformat_minor": 2
}
